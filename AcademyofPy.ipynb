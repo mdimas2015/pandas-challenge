# Dependencies and Setup
import pandas as pd

# File to Load (Remember to Change These)
school_data = "Resources/schools_complete.csv"
student_data = "Resources/students_complete.csv"

# Read School and Student Data File and store into Pandas Data Frames
school_data = pd.read_csv(school_data)
student_data = pd.read_csv(student_data)

# Combine the data into a single dataset
all_data = pd.merge(student_data, school_data, how="left", on=["school_name", "school_name"])
all_data


# District Summary
# Calculate the total number of schools

# Calculate the total number of students

# Calculate the total budget

# Calculate the average math score

# Calculate the average reading score

# Calculate the overall passing rate (overall average score), i.e. (avg. math score + avg. reading score)/2

# Calculate the percentage of students with a passing math score (70 or greater)

# Calculate the percentage of students with a passing reading score (70 or greater)

# Create a dataframe to hold the above results

# Optional: give the displayed data cleaner formatting

District = {}
District = pd.DataFrame()

District["Total Schools"] =[school_data["school_name"].value_counts().sum()]
District["Total Students"] = [school_data["size"].sum()]
District["Total Budget"]=[school_data["budget"].sum()]
District["Average Math Score"]=[student_data["math_score"].mean()]
District["Average Reading Score"]=[student_data["reading_score"].mean()]


Total_Students=len(student_data["Student ID"])
math_pass=len(student_data[student_data["math_score"] >= 70])/ Total_Students
reading_pas=len(student_data[student_data["reading_score"] >= 70])/ Total_Students


District["%Passing Math"]=len(student_data[student_data["math_score"] >= 70])/ Total_Students
District["%Passing Reading"]=len(student_data[student_data["reading_score"] >= 70])/ Total_Students
District["%Overall Passing Rate"]= len(student_data[student_data["math_score"]+["reading_score"]]) / 2

Districts=pd.DataFrame(District)

Districts.style.format({"Total Budget": "${:,.2f}",
                      "%Passing Math": "{:.1%}","%Passing Reading": "{:.1%}"})
                      
                      
# Math Scores by Grade
# Create a table that lists the average Reading Score for students of each grade level (9th, 10th, 11th, 12th) at each school.
ninth_reading = student_df.loc[student_df['grade'] == '9th'].groupby('school')["reading_score"].mean()
tenth_reading = student_df.loc[student_df['grade'] == '10th'].groupby('school')["reading_score"].mean()
eleventh_reading = student_df.loc[student_df['grade'] == '11th'].groupby('school')["reading_score"].mean()
twelfth_reading = student_df.loc[student_df['grade'] == '12th'].groupby('school')["reading_score"].mean()

# Create a pandas series for each grade. Hint: use a conditional statement.
reading_scores = pd.DataFrame({
        "9th": ninth_reading,
        "10th": tenth_reading,
        "11th": eleventh_reading,
        "12th": twelfth_reading
})
# Group each series by school
# Combine the series into a dataframe
# Optional: give the displayed data cleaner formatting

reading_scores = reading_scores[['9th', '10th', '11th', '12th']]
reading_scores.index.name = "School"

reading_scores.style.format({'9th': '{:.1f}', 
                             "10th": '{:.1f}', 
                             "11th": "{:.1f}", 
                             "12th": "{:.1f}"})

# Reading Score by Grade
# Perform the same operations as above for reading scores


#creates the grades and then be abel to find the average math score 
ninth_math = student_df.loc[student_df['grade'] == '9th'].groupby('school')["math_score"].mean()
tenth_math = student_df.loc[student_df['grade'] == '10th'].groupby('school')["math_score"].mean()
eleventh_math = student_df.loc[student_df['grade'] == '11th'].groupby('school')["math_score"].mean()
twelfth_math = student_df.loc[student_df['grade'] == '12th'].groupby('school')["math_score"].mean()

math_scores = pd.DataFrame({
        "9th": ninth_math,
        "10th": tenth_math,
        "11th": eleventh_math,
        "12th": twelfth_math
})
math_scores = math_scores[['9th', '10th', '11th', '12th']]
math_scores.index.name = "School"

#display the results and arrange corectly 
math_scores.style.format({'9th': '{:.1f}', 
                          "10th": '{:.1f}', 
                          "11th": "{:.1f}", 
                          "12th": "{:.1f}"})

# Scores by School Spending
# Create a table that breaks down school performances based on average Spending Ranges (Per Student). Use 4 reasonable bins to group school spending. Include in the table each of the following:

# create the bins 

bins = [0, 584.999, 614.999, 644.999, 999999]
group_name = ['< $585', "$585 - 614", "$615 - 644", "> $644"]
all_df['spending_bins'] = pd.cut(all_df['budget']/all_df['size'], bins, labels = group_name)

by_spending = all_df.groupby('spending_bins')

# Average Math Score
# Average Reading Score
# % Passing Math
# % Passing Reading
# Overall Passing Rate (Average of the above two)

# this is how you calaculate the overall average scores, passing and overall passign rate

avg_math = by_spending['math_score'].mean()
avg_read = by_spending['reading_score'].mean()
pass_math = all_df[all_df['math_score'] >= 70].groupby('spending_bins')['Student ID'].count()/by_spending['Student ID'].count()
pass_read = all_df[all_df['reading_score'] >= 70].groupby('spending_bins')['Student ID'].count()/by_spending['Student ID'].count()
overall = all_df[(all_df['reading_score'] >= 70) & (allScores by School Size_df['math_score'] >= 70)].groupby('spending_bins')['Student ID'].count()/by_spending['Student ID'].count()

scores_by_spend = pd.DataFrame({
    "Average Math Score": avg_math,
    "Average Reading Score": avg_read,
    '% Passing Math': pass_math,
    '% Passing Reading': pass_read,
    "Overall Passing Rate": overall

scores_by_spend = scores_by_spend[[
    "Average Math Score",
    "Average Reading Score",
    '% Passing Math',
    '% Passing Reading',
    "Overall Passing Rate"
]]

scores_by_spend.index.name = "Per Student Budget"
scores_by_spend = scores_by_spend.reindex(group_name)

scores_by_spend.style.format({'Average Math Score': '{:.1f}', 
                              'Average Reading Score': '{:.1f}', 
                              '% Passing Math': '{:.1%}', 
                              '% Passing Reading':'{:.1%}', 
                              'Overall Passing Rate': '{:.1%}'})


# Scores by School Size

# Perform the same operations as above, based on school size.

bins = [0, 999, 1999, 99999999999]
group_name = ["Small (<1000)", "Medium (1000-2000)" , "Large (>2000)"]
all_df['size_bins'] = pd.cut(all_df['size'], bins, labels = group_name)

#group by spending
by_size = all_df.groupby('size_bins')

#calculations 
avg_math = by_size['math_score'].mean()
avg_read = by_size['math_score'].mean()
pass_math = all_df[allScores by School Type_df['math_score'] >= 70].groupby('size_bins')['Student ID'].count()/by_size['Student ID'].count()
pass_read = all_df[all_df['reading_score'] >= 70].groupby('size_bins')['Student ID'].count()/by_size['Student ID'].count()
overall = all_df[(all_df['reading_score'] >= 70) & (all_df['math_score'] >= 70)].groupby('size_bins')['Student ID'].count()/by_size['Student ID'].count()

            
# building the dataframe            
scores_by_size = pd.DataFrame({
    "Average Math Score": avg_math,
    "Average Reading Score": avg_read,
    '% Passing Math': pass_math,
    '% Passing Reading': pass_read,
    "Overall Passing Rate": overall
            
})
            
#arrange correctly the columns
scores_by_size = scores_by_size[[
    "Average Math Score",
    "Average Reading Score",
    '% Passing Math',
    '% Passing Reading',
    "Overall Passing Rate"
]]

scores_by_size.index.name = "Total Students"
scores_by_size = scores_by_size.reindex(group_name)

# format the table
scores_by_size.style.format({'Average Math Score': '{:.1f}', 
                              'Average Reading Score': '{:.1f}', 
                              '% Passing Math': '{:.1%}', 
                              '% Passing Reading':'{:.1%}', 
                              'Overall Passing Rate': '{:.1%}'})


# Scores by School Type
# Perform the same operations as above, based on school type.

by_type = all_df.groupby("type")

# the results
avg_math = by_type['math_score'].mean()
avg_read = by_type['math_score'].mean()
pass_math = all_df[all_df['math_score'] >= 70].groupby('type')['Student ID'].count()/by_type['Student ID'].count()
pass_read = all_df[all_df['reading_score'] >= 70].groupby('type')['Student ID'].count()/by_type['Student ID'].count()
overall = all_df[(all_df['reading_score'] >= 70) & (all_df['math_score'] >= 70)].groupby('type')['Student ID'].count()/by_type['Student ID'].count()

# create the data fram          
scores_by_type = pd.DataFrame({
    "Average Math Score": avg_math,
    "Average Reading Score": avg_read,
    '% Passing Math': pass_math,
    '% Passing Reading': pass_read,
    "Overall Passing Rate": overall})
    
#arrange the columns correctly 
scores_by_type = scores_by_type[[
    "Average Math Score",
    "Average Reading Score",
    '% Passing Math',
    '% Passing Reading',
    "Overall Passing Rate"
]]
scores_by_type.index.name = "Type of School"


#format correctly
scores_by_type.style.format({'Average Math Score': '{:.1f}', 
                              'Average Reading Score': '{:.1f}', 
                              '% Passing Math': '{:.1%}', 
                              '% Passing Reading':'{:.1%}', 
                              'Overall Passing Rate': '{:.1%}'})

